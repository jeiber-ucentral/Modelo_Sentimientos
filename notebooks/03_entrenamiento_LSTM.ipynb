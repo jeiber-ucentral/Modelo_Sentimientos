{
 "cells": [
  {
   "cell_type": "code",
   "execution_count": null,
   "id": "a045c832",
   "metadata": {},
   "outputs": [],
   "source": [
    "import tensorflow as tf\n",
    "from tensorflow.keras.models import Sequential\n",
    "from tensorflow.keras.layers import Embedding, SimpleRNN, Dense\n",
    "from tensorflow.keras.preprocessing.sequence import pad_sequences\n",
    "from sklearn.model_selection import train_test_split\n",
    "import sys\n",
    "import warnings\n",
    "warnings.filterwarnings(\"ignore\")\n",
    "import os\n",
    "import joblib\n",
    "sys.path.append(os.path.abspath('../src'))\n",
    "from data_tokenizer import procesar_texto\n",
    "import data_loader\n",
    "from sklearn.preprocessing import StandardScaler\n",
    "from sklearn.metrics import f1_score, recall_score, precision_score\n",
    "from keras.layers import Dense, LSTM\n",
    "from imblearn.over_sampling import SMOTE\n",
    "from sklearn.metrics import classification_report, confusion_matrix\n",
    "import seaborn as sns\n",
    "import matplotlib.pyplot as plt"
   ]
  },
  {
   "cell_type": "code",
   "execution_count": null,
   "id": "7868ba9b",
   "metadata": {},
   "outputs": [],
   "source": [
    "def division_datos(tfidf, mensajes=True):\n",
    "    '''\n",
    "    Carga y segmenta los datos en entrenamiento, validacion y prueba dado el tokenizador escogido.\n",
    "    Guarda el scaler para normalizar datos en la prediccion.\n",
    "    Argumentos:\n",
    "        * tfidf: True para usar TF-IDF, False para usar CountVectorizer\n",
    "        * mensajes: Por default es True. Indica si se desea imprimir un diagnostico de cantidad de filas y primeros registros de las bases finales\n",
    "\n",
    "    Retorno:\n",
    "        * x_train, x_test, x_val\n",
    "        * y_train, y_test, y_val\n",
    "    '''\n",
    "    # Cargando datos de acuerdo a tokenizador seleccionado\n",
    "    if tfidf:\n",
    "        vectorizador = joblib.load('C:/Users/gerb2/Documents/DEEPLEARNING/taller2_tweets/Modelo_Sentimientos/models/vectorizador_tfidf.pkl')\n",
    "        x = joblib.load('C:/Users/gerb2/Documents/DEEPLEARNING/taller2_tweets/Modelo_Sentimientos/models/tweets_tfidf.pkl')\n",
    "    else:\n",
    "        vectorizador = joblib.load('C:/Users/gerb2/Documents/DEEPLEARNING/taller2_tweets/Modelo_Sentimientos/models/vectorizador_tf.pkl')\n",
    "        x = joblib.load('C:/Users/gerb2/Documents/DEEPLEARNING/taller2_tweets/Modelo_Sentimientos/models/tweets_tf.pkl')\n",
    "    \n",
    "    y = joblib.load('C:/Users/gerb2/Documents/DEEPLEARNING/taller2_tweets/Modelo_Sentimientos/models/labels.pkl')\n",
    "    \n",
    "    # Division en train, test y validacion\n",
    "    x_train, x_test, y_train, y_test = train_test_split(x, y, test_size=0.20, random_state=42)\n",
    "    x_train, x_val, y_train, y_val = train_test_split(x_train, y_train, test_size=0.10, random_state=42)\n",
    "\n",
    "    if mensajes:\n",
    "        print(\"Dimensiones de X completa:\", x.shape)\n",
    "        print(\"Dimensiones de X train:\", x_train.shape)\n",
    "        print(\"Dimensiones de X test:\", x_test.shape)\n",
    "\n",
    "        print(\"\\nPrimeros registros X test:\")\n",
    "        print(x_test.toarray()[:5])\n",
    "\n",
    "        print(\"\\nPrimeras 5 etiquetas\")\n",
    "        print(y[:5])\n",
    "    \n",
    "    return x_train, x_test, x_val, y_train, y_test, y_val"
   ]
  },
  {
   "cell_type": "code",
   "execution_count": null,
   "id": "f9a3a802",
   "metadata": {},
   "outputs": [],
   "source": [
    "# Definir parámetros del vocabulario y la secuencia\n",
    "MAX_VOCAB_SIZE = 10000\n",
    "MAX_SEQUENCE_LENGTH = 130"
   ]
  },
  {
   "cell_type": "code",
   "execution_count": null,
   "id": "1ef294cf",
   "metadata": {},
   "outputs": [],
   "source": [
    "# Llamada correcta a la función division_datos\n",
    "x_train, x_test, x_val, y_train, y_test, y_val = division_datos(tfidf=True)"
   ]
  },
  {
   "cell_type": "code",
   "execution_count": null,
   "id": "eff22458",
   "metadata": {},
   "outputs": [],
   "source": [
    "# Modelo LSTM standard\n",
    "\n",
    "modelo = Sequential([\n",
    "    Embedding(input_dim=MAX_VOCAB_SIZE, output_dim=64, input_length=MAX_SEQUENCE_LENGTH),\n",
    "    LSTM(50, activation='relu', input_shape=(7, 1)),\n",
    "    Dense(1)\n",
    "    ])\n",
    "\n",
    "modelo.compile(optimizer='adam', loss='mse')\n",
    "history = modelo.fit(x_train, y_train, epochs=10, validation_data=(x_test, y_test))"
   ]
  },
  {
   "cell_type": "code",
   "execution_count": null,
   "id": "3af44879",
   "metadata": {},
   "outputs": [],
   "source": [
    "699/699 ━━━━━━━━━━━━━━━━━━━━ 54s 72ms/step - loss: 0.0636 - val_loss: 0.0649\n",
    "Epoch 2/10\n",
    "699/699 ━━━━━━━━━━━━━━━━━━━━ 52s 75ms/step - loss: 0.0658 - val_loss: 0.0650\n",
    "Epoch 3/10\n",
    "699/699 ━━━━━━━━━━━━━━━━━━━━ 81s 73ms/step - loss: 0.0629 - val_loss: 0.0649\n",
    "Epoch 4/10\n",
    "699/699 ━━━━━━━━━━━━━━━━━━━━ 52s 74ms/step - loss: 0.0654 - val_loss: 0.0649\n",
    "Epoch 5/10\n",
    "699/699 ━━━━━━━━━━━━━━━━━━━━ 79s 69ms/step - loss: 0.0632 - val_loss: 0.0650\n",
    "Epoch 6/10\n",
    "699/699 ━━━━━━━━━━━━━━━━━━━━ 88s 77ms/step - loss: 0.0644 - val_loss: 0.0649\n",
    "Epoch 7/10\n",
    "699/699 ━━━━━━━━━━━━━━━━━━━━ 79s 73ms/step - loss: 0.0650 - val_loss: 0.0649\n",
    "Epoch 8/10\n",
    "699/699 ━━━━━━━━━━━━━━━━━━━━ 83s 75ms/step - loss: 0.0650 - val_loss: 0.0649\n",
    "Epoch 9/10\n",
    "699/699 ━━━━━━━━━━━━━━━━━━━━ 52s 74ms/step - loss: 0.0644 - val_loss: 0.0649\n",
    "Epoch 10/10\n",
    "699/699 ━━━━━━━━━━━━━━━━━━━━ 82s 74ms/step - loss: 0.0663 - val_loss: 0.0650"
   ]
  },
  {
   "cell_type": "code",
   "execution_count": null,
   "id": "9fbd53eb",
   "metadata": {},
   "outputs": [],
   "source": [
    "#Compilar\n",
    "\n",
    "modelo.compile(\n",
    "    loss='binary_crossentropy',\n",
    "    optimizer='adam',\n",
    "    metrics=['accuracy']\n",
    ")"
   ]
  },
  {
   "cell_type": "code",
   "execution_count": null,
   "id": "9ec6960a",
   "metadata": {},
   "outputs": [],
   "source": [
    "# Instantiate SMOTE\n",
    "smote = SMOTE(random_state=42)  # You can adjust the random_state\n",
    "\n",
    "# Resample the training data\n",
    "X_train_resampled, y_train_resampled = smote.fit_resample(x_train, y_train)\n",
    "\n",
    "print(\"Original shape:\", x_train.shape, y_train.shape)\n",
    "print(\"Resampled shape:\", X_train_resampled.shape, y_train_resampled.shape)"
   ]
  },
  {
   "cell_type": "code",
   "execution_count": null,
   "id": "6842184b",
   "metadata": {},
   "outputs": [],
   "source": [
    "#Entrenar con pesos de clase\n",
    "\n",
    "history = modelo.fit(\n",
    "    X_train_resampled, y_train_resampled,\n",
    "    validation_data=(x_test, y_test),\n",
    "    epochs=10,\n",
    "    batch_size=32\n",
    ")"
   ]
  },
  {
   "cell_type": "code",
   "execution_count": null,
   "id": "8da28e03",
   "metadata": {},
   "outputs": [],
   "source": [
    "Epoch 1/10\n",
    "1301/1301 ━━━━━━━━━━━━━━━━━━━━ 121s 90ms/step - accuracy: 0.5046 - loss: 0.7575 - val_accuracy: 0.9303 - val_loss: 0.6741\n",
    "Epoch 2/10\n",
    "1301/1301 ━━━━━━━━━━━━━━━━━━━━ 130s 81ms/step - accuracy: 0.5001 - loss: 0.6941 - val_accuracy: 0.0697 - val_loss: 0.6944\n",
    "Epoch 3/10\n",
    "1301/1301 ━━━━━━━━━━━━━━━━━━━━ 143s 82ms/step - accuracy: 0.5070 - loss: 0.6939 - val_accuracy: 0.9303 - val_loss: 0.6714\n",
    "Epoch 4/10\n",
    "1301/1301 ━━━━━━━━━━━━━━━━━━━━ 141s 81ms/step - accuracy: 0.4957 - loss: 0.6944 - val_accuracy: 0.9303 - val_loss: 0.6778\n",
    "Epoch 5/10\n",
    "1301/1301 ━━━━━━━━━━━━━━━━━━━━ 110s 84ms/step - accuracy: 0.4990 - loss: 0.6943 - val_accuracy: 0.0697 - val_loss: 0.6981\n",
    "Epoch 6/10\n",
    "1301/1301 ━━━━━━━━━━━━━━━━━━━━ 140s 83ms/step - accuracy: 0.5019 - loss: 0.6941 - val_accuracy: 0.0697 - val_loss: 0.7346\n",
    "Epoch 7/10\n",
    "1301/1301 ━━━━━━━━━━━━━━━━━━━━ 139s 80ms/step - accuracy: 0.5004 - loss: 0.6939 - val_accuracy: 0.0697 - val_loss: 0.6970\n",
    "Epoch 8/10\n",
    "1301/1301 ━━━━━━━━━━━━━━━━━━━━ 145s 82ms/step - accuracy: 0.5015 - loss: 0.6940 - val_accuracy: 0.0697 - val_loss: 0.7222\n",
    "Epoch 9/10\n",
    "1301/1301 ━━━━━━━━━━━━━━━━━━━━ 139s 80ms/step - accuracy: 0.5008 - loss: 0.6939 - val_accuracy: 0.9303 - val_loss: 0.6712\n",
    "Epoch 10/10\n",
    "1301/1301 ━━━━━━━━━━━━━━━━━━━━ 145s 82ms/step - accuracy: 0.5002 - loss: 0.6939 - val_accuracy: 0.9303 - val_loss: 0.6762"
   ]
  },
  {
   "cell_type": "code",
   "execution_count": null,
   "id": "a2d4bebd",
   "metadata": {},
   "outputs": [],
   "source": [
    "# Evaluar en el set de prueba\n",
    "loss, accuracy = modelo.evaluate(x_test, y_test)\n",
    "print(f\"Loss en test: {loss:.4f}\")\n",
    "print(f\"Accuracy en test: {accuracy:.4f}\")"
   ]
  },
  {
   "cell_type": "code",
   "execution_count": null,
   "id": "d6abb98a",
   "metadata": {},
   "outputs": [],
   "source": [
    "175/175 ━━━━━━━━━━━━━━━━━━━━ 3s 20ms/step - accuracy: 0.9279 - loss: 0.6763\n",
    "Loss en test: 0.6762\n",
    "Accuracy en test: 0.9303"
   ]
  },
  {
   "cell_type": "code",
   "execution_count": null,
   "id": "df886689",
   "metadata": {},
   "outputs": [],
   "source": [
    "#Ver métricas más completas (confusion matrix, precision, recall, F1)\n",
    "\n",
    "# Predicciones\n",
    "y_pred = modelo.predict(x_test)\n",
    "y_pred_classes = (y_pred > 0.5).astype(\"int32\")\n",
    "\n",
    "# Reporte\n",
    "print(classification_report(y_test, y_pred_classes))\n",
    "\n",
    "# Matriz de confusión\n",
    "cm = confusion_matrix(y_test, y_pred_classes)\n",
    "sns.heatmap(cm, annot=True, fmt='d', cmap='Blues')\n",
    "plt.xlabel(\"Predicción\")\n",
    "plt.ylabel(\"Real\")\n",
    "plt.title(\"Matriz de Confusión\")\n",
    "plt.show()"
   ]
  },
  {
   "cell_type": "code",
   "execution_count": null,
   "id": "67b220bc",
   "metadata": {},
   "outputs": [],
   "source": [
    "              precision    recall  f1-score   support\n",
    "\n",
    "           0       0.93      1.00      0.96      5203\n",
    "           1       0.00      0.00      0.00       390\n",
    "\n",
    "    accuracy                           0.93      5593\n",
    "   macro avg       0.47      0.50      0.48      5593\n",
    "weighted avg       0.87      0.93      0.90      5593"
   ]
  },
  {
   "cell_type": "code",
   "execution_count": null,
   "id": "f4dbd7a6",
   "metadata": {},
   "outputs": [],
   "source": [
    "# Visualizar el entrenamiento\n",
    "\n",
    "plt.plot(history.history['accuracy'], label='Accuracy entrenamiento')\n",
    "plt.plot(history.history['val_accuracy'], label='Accuracy validación')\n",
    "plt.xlabel('Épocas')\n",
    "plt.ylabel('Precisión')\n",
    "plt.title('Precisión durante el entrenamiento')\n",
    "plt.legend()\n",
    "plt.show()\n",
    "\n",
    "plt.plot(history.history['loss'], label='Loss entrenamiento')\n",
    "plt.plot(history.history['val_loss'], label='Loss validación')\n",
    "plt.xlabel('Épocas')\n",
    "plt.ylabel('Pérdida')\n",
    "plt.title('Pérdida durante el entrenamiento')\n",
    "plt.legend()\n",
    "plt.show()"
   ]
  }
 ],
 "metadata": {
  "language_info": {
   "name": "python"
  }
 },
 "nbformat": 4,
 "nbformat_minor": 5
}
